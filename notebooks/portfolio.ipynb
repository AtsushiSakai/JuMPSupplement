{
 "cells": [
  {
   "cell_type": "markdown",
   "metadata": {},
   "source": [
    "Solve a **Markowitz Portfolio** problem with **JuMP**:\n",
    "$$\n",
    "\\begin{alignat}{2}\n",
    "\\min_{x \\geq 0} \\quad & x^T \\Sigma x \\\\\n",
    "\\text{subject to} \\quad & r^T x \\geq r_{min} \\\\\n",
    "& e^T x = 1\n",
    "\\end{alignat}\n",
    "$$"
   ]
  },
  {
   "cell_type": "code",
   "execution_count": null,
   "metadata": {
    "collapsed": false
   },
   "outputs": [],
   "source": [
    "using Distributions\n",
    "function generate_data(n, num_obs)\n",
    "    data = zeros(num_obs, n)\n",
    "\n",
    "    # Linking factors\n",
    "    beta = [(i-1.0)/n for i = 1:n] \n",
    "\n",
    "    for obs_ind = 1:num_obs\n",
    "        # Common market factor, mean 3%, sd 2%, truncate at +- 3 sd\n",
    "        z = rand(Normal(0.03, 0.02))\n",
    "        z = max(z, 0.03 - 3*0.02)\n",
    "        z = min(z, 0.03 + 3*0.02)\n",
    "\n",
    "        for asset_ind = 1:n\n",
    "            # Idiosyncratic contribution, mean 0%, sd 3%, truncated at +- 3 sd\n",
    "            asset = rand(Normal(0.00, 0.03))\n",
    "            asset = max(asset, 0.00 - 3*0.03)\n",
    "            asset = min(asset, 0.00 + 3*0.03)\n",
    "            data[obs_ind, asset_ind] = beta[asset_ind] * z + asset\n",
    "        end\n",
    "    end\n",
    "    return 100*data\n",
    "end\n",
    "data = generate_data(5,10000);"
   ]
  },
  {
   "cell_type": "code",
   "execution_count": null,
   "metadata": {
    "collapsed": false
   },
   "outputs": [],
   "source": [
    "using JuMP, Interact, Gadfly\n",
    "set_default_plot_size(4inch,4inch)\n",
    "n, μ, Σ = 5, vec(mean(data,1)), cov(data)\n",
    "@manipulate for r_min in 1.0:0.1:2.0\n",
    "    port = Model()\n",
    "    @defVar(port, 0 ≤ x[1:n] ≤ 1)\n",
    "    @addConstraint(port, sum(x) == 1)\n",
    "    @addConstraint(port, dot(μ,x) ≥ r_min)\n",
    "    @setObjective(port, Min, \n",
    "        sum{Σ[i,j]*x[i]*x[j],i=1:n,j=1:n})\n",
    "    solve(port)\n",
    "    plot(x=data*getValue(x)[:], Geom.density,\n",
    "         Guide.xlabel(\"Return\"), Guide.ylabel(\"Density\"))\n",
    "end"
   ]
  }
 ],
 "metadata": {
  "kernelspec": {
   "display_name": "Julia 0.4.0",
   "language": "julia",
   "name": "julia-0.4"
  },
  "language_info": {
   "file_extension": ".jl",
   "mimetype": "application/julia",
   "name": "julia",
   "version": "0.4.1"
  }
 },
 "nbformat": 4,
 "nbformat_minor": 0
}
